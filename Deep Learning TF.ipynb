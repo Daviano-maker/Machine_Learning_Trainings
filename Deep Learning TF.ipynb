{
 "cells": [
  {
   "cell_type": "markdown",
   "id": "5b7574dd",
   "metadata": {},
   "source": [
    "## Minimum example with TensorFlow 2.15\n"
   ]
  },
  {
   "cell_type": "code",
   "execution_count": 1,
   "id": "4d7f53d3",
   "metadata": {},
   "outputs": [
    {
     "name": "stdout",
     "output_type": "stream",
     "text": [
      "WARNING:tensorflow:From C:\\Users\\USER\\anaconda3\\envs\\Daviano_env\\Lib\\site-packages\\keras\\src\\losses.py:2976: The name tf.losses.sparse_softmax_cross_entropy is deprecated. Please use tf.compat.v1.losses.sparse_softmax_cross_entropy instead.\n",
      "\n"
     ]
    }
   ],
   "source": [
    "import numpy as np\n",
    "import matplotlib.pyplot as plt\n",
    "import tensorflow as tf"
   ]
  },
  {
   "cell_type": "markdown",
   "id": "4028a4e6",
   "metadata": {},
   "source": [
    "## Data generation"
   ]
  },
  {
   "cell_type": "code",
   "execution_count": 2,
   "id": "b113539d",
   "metadata": {},
   "outputs": [],
   "source": [
    "observations = 100\n",
    "\n",
    "xs = np.random.uniform(low=-10, high=10, size=(observations,1))\n",
    "zs = np.random.uniform(-10, 10, (observations,1))\n",
    "\n",
    "generated_inputs = np.column_stack((xs,zs))\n",
    "\n",
    "noise = np.random.uniform(-1, 1, (observations,1))\n",
    "\n",
    "generated_targets = 2*xs - 3*zs + 5 + noise\n",
    "\n",
    "np.savez('TF_intro', inputs=generated_inputs, targets=generated_targets)"
   ]
  },
  {
   "cell_type": "markdown",
   "id": "9bd340ed",
   "metadata": {},
   "source": [
    "## Solving with TensorFlow"
   ]
  },
  {
   "cell_type": "code",
   "execution_count": 3,
   "id": "997ec9f4",
   "metadata": {},
   "outputs": [],
   "source": [
    "training_data = np.load('TF_intro.npz')"
   ]
  },
  {
   "cell_type": "code",
   "execution_count": 4,
   "id": "947c9598",
   "metadata": {},
   "outputs": [
    {
     "name": "stdout",
     "output_type": "stream",
     "text": [
      "WARNING:tensorflow:From C:\\Users\\USER\\anaconda3\\envs\\Daviano_env\\Lib\\site-packages\\keras\\src\\backend.py:873: The name tf.get_default_graph is deprecated. Please use tf.compat.v1.get_default_graph instead.\n",
      "\n",
      "Epoch 1/100\n",
      "WARNING:tensorflow:From C:\\Users\\USER\\anaconda3\\envs\\Daviano_env\\Lib\\site-packages\\keras\\src\\utils\\tf_utils.py:492: The name tf.ragged.RaggedTensorValue is deprecated. Please use tf.compat.v1.ragged.RaggedTensorValue instead.\n",
      "\n",
      "4/4 - 0s - loss: 211.1140 - 423ms/epoch - 106ms/step\n",
      "Epoch 2/100\n",
      "4/4 - 0s - loss: 31.0639 - 20ms/epoch - 5ms/step\n",
      "Epoch 3/100\n",
      "4/4 - 0s - loss: 12.4468 - 0s/epoch - 0s/step\n",
      "Epoch 4/100\n",
      "4/4 - 0s - loss: 11.2245 - 18ms/epoch - 5ms/step\n",
      "Epoch 5/100\n",
      "4/4 - 0s - loss: 6.5202 - 11ms/epoch - 3ms/step\n",
      "Epoch 6/100\n",
      "4/4 - 0s - loss: 6.2438 - 2ms/epoch - 524us/step\n",
      "Epoch 7/100\n",
      "4/4 - 0s - loss: 4.0622 - 17ms/epoch - 4ms/step\n",
      "Epoch 8/100\n",
      "4/4 - 0s - loss: 2.8562 - 11ms/epoch - 3ms/step\n",
      "Epoch 9/100\n",
      "4/4 - 0s - loss: 2.0586 - 1ms/epoch - 360us/step\n",
      "Epoch 10/100\n",
      "4/4 - 0s - loss: 1.6140 - 16ms/epoch - 4ms/step\n",
      "Epoch 11/100\n",
      "4/4 - 0s - loss: 1.3367 - 11ms/epoch - 3ms/step\n",
      "Epoch 12/100\n",
      "4/4 - 0s - loss: 1.8552 - 3ms/epoch - 770us/step\n",
      "Epoch 13/100\n",
      "4/4 - 0s - loss: 2.7250 - 16ms/epoch - 4ms/step\n",
      "Epoch 14/100\n",
      "4/4 - 0s - loss: 0.8068 - 3ms/epoch - 636us/step\n",
      "Epoch 15/100\n",
      "4/4 - 0s - loss: 0.6176 - 6ms/epoch - 1ms/step\n",
      "Epoch 16/100\n",
      "4/4 - 0s - loss: 0.5786 - 15ms/epoch - 4ms/step\n",
      "Epoch 17/100\n",
      "4/4 - 0s - loss: 0.5730 - 0s/epoch - 0s/step\n",
      "Epoch 18/100\n",
      "4/4 - 0s - loss: 0.5865 - 18ms/epoch - 5ms/step\n",
      "Epoch 19/100\n",
      "4/4 - 0s - loss: 1.4650 - 12ms/epoch - 3ms/step\n",
      "Epoch 20/100\n",
      "4/4 - 0s - loss: 0.5906 - 851us/epoch - 213us/step\n",
      "Epoch 21/100\n",
      "4/4 - 0s - loss: 0.4053 - 18ms/epoch - 4ms/step\n",
      "Epoch 22/100\n",
      "4/4 - 0s - loss: 0.7031 - 13ms/epoch - 3ms/step\n",
      "Epoch 23/100\n",
      "4/4 - 0s - loss: 0.4576 - 2ms/epoch - 377us/step\n",
      "Epoch 24/100\n",
      "4/4 - 0s - loss: 0.5368 - 14ms/epoch - 4ms/step\n",
      "Epoch 25/100\n",
      "4/4 - 0s - loss: 1.9468 - 14ms/epoch - 4ms/step\n",
      "Epoch 26/100\n",
      "4/4 - 0s - loss: 0.3742 - 898us/epoch - 225us/step\n",
      "Epoch 27/100\n",
      "4/4 - 0s - loss: 0.5474 - 18ms/epoch - 4ms/step\n",
      "Epoch 28/100\n",
      "4/4 - 0s - loss: 0.4064 - 11ms/epoch - 3ms/step\n",
      "Epoch 29/100\n",
      "4/4 - 0s - loss: 0.5033 - 1ms/epoch - 283us/step\n",
      "Epoch 30/100\n",
      "4/4 - 0s - loss: 0.4969 - 18ms/epoch - 4ms/step\n",
      "Epoch 31/100\n",
      "4/4 - 0s - loss: 0.3943 - 10ms/epoch - 3ms/step\n",
      "Epoch 32/100\n",
      "4/4 - 0s - loss: 0.4586 - 8ms/epoch - 2ms/step\n",
      "Epoch 33/100\n",
      "4/4 - 0s - loss: 0.7237 - 8ms/epoch - 2ms/step\n",
      "Epoch 34/100\n",
      "4/4 - 0s - loss: 0.4049 - 0s/epoch - 0s/step\n",
      "Epoch 35/100\n",
      "4/4 - 0s - loss: 0.4157 - 5ms/epoch - 1ms/step\n",
      "Epoch 36/100\n",
      "4/4 - 0s - loss: 0.4128 - 15ms/epoch - 4ms/step\n",
      "Epoch 37/100\n",
      "4/4 - 0s - loss: 0.4562 - 0s/epoch - 0s/step\n",
      "Epoch 38/100\n",
      "4/4 - 0s - loss: 0.3942 - 19ms/epoch - 5ms/step\n",
      "Epoch 39/100\n",
      "4/4 - 0s - loss: 0.7575 - 10ms/epoch - 2ms/step\n",
      "Epoch 40/100\n",
      "4/4 - 0s - loss: 0.4722 - 2ms/epoch - 513us/step\n",
      "Epoch 41/100\n",
      "4/4 - 0s - loss: 0.4238 - 16ms/epoch - 4ms/step\n",
      "Epoch 42/100\n",
      "4/4 - 0s - loss: 0.8474 - 2ms/epoch - 501us/step\n",
      "Epoch 43/100\n",
      "4/4 - 0s - loss: 0.4700 - 13ms/epoch - 3ms/step\n",
      "Epoch 44/100\n",
      "4/4 - 0s - loss: 0.5161 - 13ms/epoch - 3ms/step\n",
      "Epoch 45/100\n",
      "4/4 - 0s - loss: 0.4664 - 610us/epoch - 152us/step\n",
      "Epoch 46/100\n",
      "4/4 - 0s - loss: 0.4970 - 18ms/epoch - 4ms/step\n",
      "Epoch 47/100\n",
      "4/4 - 0s - loss: 0.3870 - 11ms/epoch - 3ms/step\n",
      "Epoch 48/100\n",
      "4/4 - 0s - loss: 0.4220 - 3ms/epoch - 688us/step\n",
      "Epoch 49/100\n",
      "4/4 - 0s - loss: 0.4637 - 15ms/epoch - 4ms/step\n",
      "Epoch 50/100\n",
      "4/4 - 0s - loss: 0.5040 - 0s/epoch - 0s/step\n",
      "Epoch 51/100\n",
      "4/4 - 0s - loss: 0.3717 - 8ms/epoch - 2ms/step\n",
      "Epoch 52/100\n",
      "4/4 - 0s - loss: 0.4711 - 12ms/epoch - 3ms/step\n",
      "Epoch 53/100\n",
      "4/4 - 0s - loss: 0.3796 - 0s/epoch - 0s/step\n",
      "Epoch 54/100\n",
      "4/4 - 0s - loss: 0.6015 - 17ms/epoch - 4ms/step\n",
      "Epoch 55/100\n",
      "4/4 - 0s - loss: 0.4059 - 0s/epoch - 0s/step\n",
      "Epoch 56/100\n",
      "4/4 - 0s - loss: 0.7685 - 16ms/epoch - 4ms/step\n",
      "Epoch 57/100\n",
      "4/4 - 0s - loss: 0.3699 - 0s/epoch - 0s/step\n",
      "Epoch 58/100\n",
      "4/4 - 0s - loss: 0.5153 - 3ms/epoch - 828us/step\n",
      "Epoch 59/100\n",
      "4/4 - 0s - loss: 0.5985 - 12ms/epoch - 3ms/step\n",
      "Epoch 60/100\n",
      "4/4 - 0s - loss: 0.4347 - 2ms/epoch - 550us/step\n",
      "Epoch 61/100\n",
      "4/4 - 0s - loss: 0.6059 - 16ms/epoch - 4ms/step\n",
      "Epoch 62/100\n",
      "4/4 - 0s - loss: 0.6233 - 2ms/epoch - 517us/step\n",
      "Epoch 63/100\n",
      "4/4 - 0s - loss: 0.4336 - 14ms/epoch - 4ms/step\n",
      "Epoch 64/100\n",
      "4/4 - 0s - loss: 0.3918 - 0s/epoch - 0s/step\n",
      "Epoch 65/100\n",
      "4/4 - 0s - loss: 0.3875 - 5ms/epoch - 1ms/step\n",
      "Epoch 66/100\n",
      "4/4 - 0s - loss: 0.4330 - 14ms/epoch - 3ms/step\n",
      "Epoch 67/100\n",
      "4/4 - 0s - loss: 0.4243 - 1ms/epoch - 280us/step\n",
      "Epoch 68/100\n",
      "4/4 - 0s - loss: 0.4334 - 14ms/epoch - 4ms/step\n",
      "Epoch 69/100\n",
      "4/4 - 0s - loss: 0.5217 - 0s/epoch - 0s/step\n",
      "Epoch 70/100\n",
      "4/4 - 0s - loss: 0.4885 - 15ms/epoch - 4ms/step\n",
      "Epoch 71/100\n",
      "4/4 - 0s - loss: 0.5488 - 0s/epoch - 0s/step\n",
      "Epoch 72/100\n",
      "4/4 - 0s - loss: 0.4700 - 16ms/epoch - 4ms/step\n",
      "Epoch 73/100\n",
      "4/4 - 0s - loss: 0.4416 - 2ms/epoch - 502us/step\n",
      "Epoch 74/100\n",
      "4/4 - 0s - loss: 0.4686 - 15ms/epoch - 4ms/step\n",
      "Epoch 75/100\n",
      "4/4 - 0s - loss: 0.4805 - 0s/epoch - 0s/step\n",
      "Epoch 76/100\n",
      "4/4 - 0s - loss: 0.8188 - 6ms/epoch - 1ms/step\n",
      "Epoch 77/100\n",
      "4/4 - 0s - loss: 0.4428 - 11ms/epoch - 3ms/step\n",
      "Epoch 78/100\n",
      "4/4 - 0s - loss: 0.4104 - 4ms/epoch - 1ms/step\n",
      "Epoch 79/100\n",
      "4/4 - 0s - loss: 0.6138 - 11ms/epoch - 3ms/step\n",
      "Epoch 80/100\n",
      "4/4 - 0s - loss: 0.3842 - 4ms/epoch - 888us/step\n",
      "Epoch 81/100\n",
      "4/4 - 0s - loss: 0.3583 - 14ms/epoch - 4ms/step\n",
      "Epoch 82/100\n",
      "4/4 - 0s - loss: 0.4342 - 0s/epoch - 0s/step\n",
      "Epoch 83/100\n",
      "4/4 - 0s - loss: 0.7177 - 17ms/epoch - 4ms/step\n",
      "Epoch 84/100\n",
      "4/4 - 0s - loss: 0.4546 - 0s/epoch - 0s/step\n",
      "Epoch 85/100\n",
      "4/4 - 0s - loss: 0.5085 - 6ms/epoch - 2ms/step\n",
      "Epoch 86/100\n",
      "4/4 - 0s - loss: 0.5947 - 10ms/epoch - 3ms/step\n",
      "Epoch 87/100\n",
      "4/4 - 0s - loss: 1.1466 - 5ms/epoch - 1ms/step\n",
      "Epoch 88/100\n",
      "4/4 - 0s - loss: 0.4043 - 13ms/epoch - 3ms/step\n",
      "Epoch 89/100\n",
      "4/4 - 0s - loss: 0.3935 - 0s/epoch - 0s/step\n",
      "Epoch 90/100\n",
      "4/4 - 0s - loss: 0.6160 - 17ms/epoch - 4ms/step\n",
      "Epoch 91/100\n",
      "4/4 - 0s - loss: 0.5552 - 0s/epoch - 0s/step\n",
      "Epoch 92/100\n",
      "4/4 - 0s - loss: 0.4914 - 7ms/epoch - 2ms/step\n",
      "Epoch 93/100\n",
      "4/4 - 0s - loss: 0.5024 - 9ms/epoch - 2ms/step\n",
      "Epoch 94/100\n",
      "4/4 - 0s - loss: 0.4222 - 6ms/epoch - 2ms/step\n",
      "Epoch 95/100\n",
      "4/4 - 0s - loss: 0.3870 - 10ms/epoch - 3ms/step\n",
      "Epoch 96/100\n",
      "4/4 - 0s - loss: 0.5987 - 2ms/epoch - 381us/step\n",
      "Epoch 97/100\n",
      "4/4 - 0s - loss: 0.7470 - 16ms/epoch - 4ms/step\n",
      "Epoch 98/100\n",
      "4/4 - 0s - loss: 0.5093 - 0s/epoch - 0s/step\n",
      "Epoch 99/100\n",
      "4/4 - 0s - loss: 0.4273 - 18ms/epoch - 4ms/step\n",
      "Epoch 100/100\n",
      "4/4 - 0s - loss: 0.6088 - 9ms/epoch - 2ms/step\n"
     ]
    },
    {
     "data": {
      "text/plain": [
       "<keras.src.callbacks.History at 0x1ebdffae890>"
      ]
     },
     "execution_count": 4,
     "metadata": {},
     "output_type": "execute_result"
    }
   ],
   "source": [
    "input_size = 2\n",
    "output_size = 1\n",
    "\n",
    "model = tf.keras.Sequential([tf.keras.layers.Dense(output_size, kernel_initializer=tf.random_uniform_initializer(minval=-0.1, maxval=0.1),\n",
    "                                                     bias_initializer=tf.random_uniform_initializer(minval=-0.1, maxval=0.1)\n",
    "                                                    )\n",
    "                                      ])\n",
    "\n",
    "custom_optimizer = tf.keras.optimizers.SGD(learning_rate=0.02)\n",
    "\n",
    "model.compile(optimizer=custom_optimizer, loss='mean_squared_error')\n",
    "\n",
    "model.fit(training_data['inputs'], training_data['targets'], epochs=100, verbose=2)\n",
    "\n"
   ]
  },
  {
   "cell_type": "markdown",
   "id": "4ebec301",
   "metadata": {},
   "source": [
    "## Extract the weights and bias"
   ]
  },
  {
   "cell_type": "code",
   "execution_count": 5,
   "id": "7cbced8d",
   "metadata": {},
   "outputs": [
    {
     "data": {
      "text/plain": [
       "[array([[ 1.9840328],\n",
       "        [-3.025356 ]], dtype=float32),\n",
       " array([5.0430984], dtype=float32)]"
      ]
     },
     "execution_count": 5,
     "metadata": {},
     "output_type": "execute_result"
    }
   ],
   "source": [
    "model.layers[0].get_weights()"
   ]
  },
  {
   "cell_type": "code",
   "execution_count": 6,
   "id": "a6bad5ab",
   "metadata": {},
   "outputs": [
    {
     "data": {
      "text/plain": [
       "array([[ 1.9840328],\n",
       "       [-3.025356 ]], dtype=float32)"
      ]
     },
     "execution_count": 6,
     "metadata": {},
     "output_type": "execute_result"
    }
   ],
   "source": [
    "weights = model.layers[0].get_weights()[0]\n",
    "weights"
   ]
  },
  {
   "cell_type": "code",
   "execution_count": 7,
   "id": "0cfea6ec",
   "metadata": {},
   "outputs": [
    {
     "data": {
      "text/plain": [
       "array([5.0430984], dtype=float32)"
      ]
     },
     "execution_count": 7,
     "metadata": {},
     "output_type": "execute_result"
    }
   ],
   "source": [
    "bias = model.layers[0].get_weights()[1]\n",
    "bias"
   ]
  },
  {
   "cell_type": "markdown",
   "id": "e2233a04",
   "metadata": {},
   "source": [
    "## Extract the outputs (make predictions)"
   ]
  },
  {
   "cell_type": "code",
   "execution_count": 8,
   "id": "aeb95d34",
   "metadata": {},
   "outputs": [
    {
     "data": {
      "text/plain": [
       "array([[  9.1],\n",
       "       [ -7.3],\n",
       "       [-27. ],\n",
       "       [-15.2],\n",
       "       [-25.2],\n",
       "       [-19.5],\n",
       "       [ 21.7],\n",
       "       [  2.7],\n",
       "       [ -0.5],\n",
       "       [ 20.6],\n",
       "       [-36. ],\n",
       "       [  3.4],\n",
       "       [  8.4],\n",
       "       [-17.2],\n",
       "       [ 29.5],\n",
       "       [-18.6],\n",
       "       [  5. ],\n",
       "       [ -1.5],\n",
       "       [ 20.6],\n",
       "       [  3.2],\n",
       "       [-28.4],\n",
       "       [ 31.2],\n",
       "       [  4.9],\n",
       "       [  2.9],\n",
       "       [ 38.6],\n",
       "       [-11. ],\n",
       "       [ 52.6],\n",
       "       [-30.5],\n",
       "       [-21. ],\n",
       "       [  7.4],\n",
       "       [ 14.9],\n",
       "       [ 25.1],\n",
       "       [ 18.1],\n",
       "       [ 24.8],\n",
       "       [ -7.2],\n",
       "       [  1.1],\n",
       "       [-14.8],\n",
       "       [ 51.3],\n",
       "       [ -5.6],\n",
       "       [ 12.4],\n",
       "       [  7.8],\n",
       "       [-15.5],\n",
       "       [ 19.2],\n",
       "       [-21.2],\n",
       "       [ 18. ],\n",
       "       [  0.2],\n",
       "       [-11.9],\n",
       "       [ -0.5],\n",
       "       [  9.3],\n",
       "       [  4.7],\n",
       "       [ 29.2],\n",
       "       [ 26. ],\n",
       "       [-11.1],\n",
       "       [ 36.2],\n",
       "       [ 16.7],\n",
       "       [ 19.5],\n",
       "       [-10.6],\n",
       "       [-33.9],\n",
       "       [-11.2],\n",
       "       [ 45.8],\n",
       "       [ -5.8],\n",
       "       [-16.8],\n",
       "       [-13.5],\n",
       "       [-39.4],\n",
       "       [ -1.3],\n",
       "       [ -5.8],\n",
       "       [-41.3],\n",
       "       [-13. ],\n",
       "       [ 30.4],\n",
       "       [-23.9],\n",
       "       [ -7.9],\n",
       "       [ 21.3],\n",
       "       [ 42.3],\n",
       "       [-12. ],\n",
       "       [  1.2],\n",
       "       [ 31. ],\n",
       "       [ -3.6],\n",
       "       [-32.3],\n",
       "       [ 33.9],\n",
       "       [  8.9],\n",
       "       [  0.5],\n",
       "       [-11.7],\n",
       "       [  7. ],\n",
       "       [-14.5],\n",
       "       [ 12.2],\n",
       "       [ 25. ],\n",
       "       [ 20.5],\n",
       "       [ 15.8],\n",
       "       [  3.8],\n",
       "       [  9.4],\n",
       "       [-20. ],\n",
       "       [-16.8],\n",
       "       [ 49.9],\n",
       "       [ 48.6],\n",
       "       [ 25.9],\n",
       "       [-15.8],\n",
       "       [ 24.3],\n",
       "       [-17.2],\n",
       "       [ 19.1],\n",
       "       [-14. ]], dtype=float32)"
      ]
     },
     "execution_count": 8,
     "metadata": {},
     "output_type": "execute_result"
    }
   ],
   "source": [
    "model.predict_on_batch(training_data['inputs']).round(1)"
   ]
  },
  {
   "cell_type": "code",
   "execution_count": 9,
   "id": "b1bcece8",
   "metadata": {},
   "outputs": [
    {
     "data": {
      "text/plain": [
       "array([[  9.5],\n",
       "       [ -8.1],\n",
       "       [-26.9],\n",
       "       [-15.9],\n",
       "       [-25.7],\n",
       "       [-18.8],\n",
       "       [ 22.7],\n",
       "       [  2.3],\n",
       "       [ -0.3],\n",
       "       [ 19.9],\n",
       "       [-35.2],\n",
       "       [  3.9],\n",
       "       [  8.8],\n",
       "       [-17. ],\n",
       "       [ 29.9],\n",
       "       [-19.3],\n",
       "       [  5.9],\n",
       "       [ -1.8],\n",
       "       [ 20.9],\n",
       "       [  3.6],\n",
       "       [-28. ],\n",
       "       [ 31.2],\n",
       "       [  5.2],\n",
       "       [  3.2],\n",
       "       [ 39.1],\n",
       "       [-11.5],\n",
       "       [ 51.7],\n",
       "       [-30.7],\n",
       "       [-20.1],\n",
       "       [  7.9],\n",
       "       [ 14.6],\n",
       "       [ 24.1],\n",
       "       [ 17.2],\n",
       "       [ 25.4],\n",
       "       [ -8. ],\n",
       "       [  2.1],\n",
       "       [-15.6],\n",
       "       [ 50.6],\n",
       "       [ -5.2],\n",
       "       [ 12.9],\n",
       "       [  7. ],\n",
       "       [-14.7],\n",
       "       [ 19.4],\n",
       "       [-21.2],\n",
       "       [ 18.5],\n",
       "       [  0.5],\n",
       "       [-12.1],\n",
       "       [ -1.7],\n",
       "       [  9.2],\n",
       "       [  5.8],\n",
       "       [ 29.2],\n",
       "       [ 25.9],\n",
       "       [-10.6],\n",
       "       [ 35.5],\n",
       "       [ 17.6],\n",
       "       [ 20.2],\n",
       "       [-10.1],\n",
       "       [-34.6],\n",
       "       [-10.3],\n",
       "       [ 44.9],\n",
       "       [ -5.2],\n",
       "       [-16.6],\n",
       "       [-13.6],\n",
       "       [-39. ],\n",
       "       [ -0.3],\n",
       "       [ -4.8],\n",
       "       [-42. ],\n",
       "       [-14.1],\n",
       "       [ 30.9],\n",
       "       [-24.4],\n",
       "       [ -8.9],\n",
       "       [ 21.2],\n",
       "       [ 41.7],\n",
       "       [-12.2],\n",
       "       [  0.9],\n",
       "       [ 31.2],\n",
       "       [ -4.1],\n",
       "       [-32.2],\n",
       "       [ 32.9],\n",
       "       [  8.8],\n",
       "       [  1. ],\n",
       "       [-12.5],\n",
       "       [  6.9],\n",
       "       [-14.1],\n",
       "       [ 12. ],\n",
       "       [ 25.5],\n",
       "       [ 20.3],\n",
       "       [ 16.3],\n",
       "       [  3.7],\n",
       "       [  9.6],\n",
       "       [-21. ],\n",
       "       [-16.3],\n",
       "       [ 48.8],\n",
       "       [ 49.4],\n",
       "       [ 25.5],\n",
       "       [-15.7],\n",
       "       [ 24. ],\n",
       "       [-16.3],\n",
       "       [ 19.6],\n",
       "       [-14.4]])"
      ]
     },
     "execution_count": 9,
     "metadata": {},
     "output_type": "execute_result"
    }
   ],
   "source": [
    "training_data['targets'].round(1)"
   ]
  },
  {
   "cell_type": "markdown",
   "id": "ba636096",
   "metadata": {},
   "source": [
    "## Plotting the data"
   ]
  },
  {
   "cell_type": "code",
   "execution_count": 10,
   "id": "9530df18",
   "metadata": {},
   "outputs": [
    {
     "data": {
      "image/png": "[encoded data removed]",
      "text/plain": [
       "<Figure size 640x480 with 1 Axes>"
      ]
     },
     "metadata": {},
     "output_type": "display_data"
    }
   ],
   "source": [
    "plt.plot(np.squeeze(model.predict_on_batch(training_data['inputs'])), np.squeeze(training_data['targets']))\n",
    "plt.xlabel('outputs')\n",
    "plt.ylabel('targets')\n",
    "plt.show()"
   ]
  },
  {
   "cell_type": "code",
   "execution_count": 12,
   "id": "b0c50739",
   "metadata": {
    "scrolled": true
   },
   "outputs": [],
   "source": [
    "import numpy as np\n",
    "import tensorflow as tf\n",
    "\n",
    "import tensorflow_datasets as tfds"
   ]
  },
  {
   "cell_type": "markdown",
   "id": "06ca6ca9",
   "metadata": {},
   "source": [
    "## Data"
   ]
  },
  {
   "cell_type": "code",
   "execution_count": 18,
   "id": "8959eddd",
   "metadata": {
    "scrolled": true
   },
   "outputs": [],
   "source": [
    "mnist_datasets, mnist_info = tfds.load(name='mnist', with_info=True, as_supervised=True)\n",
    "\n"
   ]
  },
  {
   "cell_type": "markdown",
   "id": "2d1b1913",
   "metadata": {},
   "source": [
    "## Preprocessing"
   ]
  },
  {
   "cell_type": "code",
   "execution_count": 20,
   "id": "536d4775",
   "metadata": {},
   "outputs": [],
   "source": [
    "mnist_train, mnist_test = mnist_datasets['train'], mnist_datasets['test']\n",
    "\n",
    "num_validation_samples = 0.1*mnist_info.splits['train'].num_examples\n",
    "num_validation_samples = tf.cast(num_validation_samples, tf.int64)\n",
    "\n",
    "num_test_samples = mnist_info.splits['test'].num_examples\n",
    "num_test_samples = tf.cast(num_test_samples,tf.int64)\n",
    "\n",
    "def scale(image,label):\n",
    "    image = tf.cast(image, tf.float32)\n",
    "    image /=255.\n",
    "    return image, label\n",
    "\n",
    "scaled_train_and_validation_data = mnist_train.map(scale)\n",
    "\n",
    "test_data = mnist_test.map(scale)\n",
    "\n",
    "BUFFER_SIZE = 10000\n",
    "\n",
    "shuffled_train_and_validation_data = scaled_train_and_validation_data.shuffle(BUFFER_SIZE)\n",
    "\n",
    "validation_data = shuffled_train_and_validation_data.take(num_validation_samples)\n",
    "train_data = shuffled_train_and_validation_data.skip(num_validation_samples)\n",
    "\n",
    "BATCH_SIZE = 100\n",
    "\n",
    "train_data = train_data.batch(BATCH_SIZE)\n",
    "validation_data= validation_data.batch(num_validation_samples)\n",
    "test_data = test_data.batch(num_test_samples)\n",
    "\n",
    "validation_inputs, validation_targets = next(iter(validation_data))"
   ]
  },
  {
   "cell_type": "markdown",
   "id": "00953989",
   "metadata": {},
   "source": [
    "# Model\n",
    "\n",
    "## Outline the model"
   ]
  },
  {
   "cell_type": "code",
   "execution_count": 25,
   "id": "b3712120",
   "metadata": {},
   "outputs": [],
   "source": [
    "input_size = 784\n",
    "output_size = 10\n",
    "hidden_layer_size = 100\n",
    "\n",
    "model = tf.keras.Sequential([\n",
    "                            tf.keras.layers.Flatten(input_shape=(28,28,1)),\n",
    "                            tf.keras.layers.Dense(hidden_layer_size, activation='relu'),\n",
    "                            tf.keras.layers.Dense(hidden_layer_size, activation='relu'),\n",
    "                            tf.keras.layers.Dense(output_size, activation='softmax')\n",
    "                            ])"
   ]
  },
  {
   "cell_type": "markdown",
   "id": "f2defae5",
   "metadata": {},
   "source": [
    "## Choose the optimizer and the loss function"
   ]
  },
  {
   "cell_type": "code",
   "execution_count": 26,
   "id": "547628e7",
   "metadata": {},
   "outputs": [],
   "source": [
    "model.compile(optimizer='adam', loss='sparse_categorical_crossentropy', metrics=['accuracy'])"
   ]
  },
  {
   "cell_type": "markdown",
   "id": "750a33df",
   "metadata": {},
   "source": [
    "## Training"
   ]
  },
  {
   "cell_type": "code",
   "execution_count": 27,
   "id": "5574f4aa",
   "metadata": {},
   "outputs": [
    {
     "name": "stdout",
     "output_type": "stream",
     "text": [
      "Epoch 1/5\n",
      "540/540 - 2s - loss: 0.3296 - accuracy: 0.9044 - val_loss: 0.1640 - val_accuracy: 0.9538 - 2s/epoch - 4ms/step\n",
      "Epoch 2/5\n",
      "540/540 - 1s - loss: 0.1405 - accuracy: 0.9584 - val_loss: 0.1074 - val_accuracy: 0.9680 - 1s/epoch - 3ms/step\n",
      "Epoch 3/5\n",
      "540/540 - 1s - loss: 0.0992 - accuracy: 0.9705 - val_loss: 0.0897 - val_accuracy: 0.9725 - 1s/epoch - 3ms/step\n",
      "Epoch 4/5\n",
      "540/540 - 2s - loss: 0.0762 - accuracy: 0.9768 - val_loss: 0.0776 - val_accuracy: 0.9767 - 2s/epoch - 3ms/step\n",
      "Epoch 5/5\n",
      "540/540 - 1s - loss: 0.0629 - accuracy: 0.9808 - val_loss: 0.0560 - val_accuracy: 0.9815 - 1s/epoch - 3ms/step\n"
     ]
    },
    {
     "data": {
      "text/plain": [
       "<keras.src.callbacks.History at 0x1ebe7784810>"
      ]
     },
     "execution_count": 27,
     "metadata": {},
     "output_type": "execute_result"
    }
   ],
   "source": [
    "NUM_EPOCHS = 5\n",
    "\n",
    "model.fit(train_data, epochs = NUM_EPOCHS, validation_data=(validation_inputs, validation_targets), verbose=2)"
   ]
  },
  {
   "cell_type": "markdown",
   "id": "a92eaa5c",
   "metadata": {},
   "source": [
    "## Test the model"
   ]
  },
  {
   "cell_type": "code",
   "execution_count": 28,
   "id": "743794ce",
   "metadata": {},
   "outputs": [
    {
     "name": "stdout",
     "output_type": "stream",
     "text": [
      "1/1 [==============================] - 0s 351ms/step - loss: 0.0799 - accuracy: 0.9745\n"
     ]
    }
   ],
   "source": [
    "test_loss, test_accuracy = model.evaluate(test_data)"
   ]
  },
  {
   "cell_type": "code",
   "execution_count": 29,
   "id": "5f843358",
   "metadata": {},
   "outputs": [
    {
     "name": "stdout",
     "output_type": "stream",
     "text": [
      "test loss: 0.08. Test accuracy: 97.45%\n"
     ]
    }
   ],
   "source": [
    "print('test loss: {0:.2f}. Test accuracy: {1:.2f}%'.format(test_loss, test_accuracy*100.))"
   ]
  },
  {
   "cell_type": "code",
   "execution_count": null,
   "id": "e417e86a",
   "metadata": {},
   "outputs": [],
   "source": []
  }
 ],
 "metadata": {
  "kernelspec": {
   "display_name": "Daviano_env",
   "language": "python",
   "name": "daviano_env"
  },
  "language_info": {
   "codemirror_mode": {
    "name": "ipython",
    "version": 3
   },
   "file_extension": ".py",
   "mimetype": "text/x-python",
   "name": "python",
   "nbconvert_exporter": "python",
   "pygments_lexer": "ipython3",
   "version": "3.11.5"
  }
 },
 "nbformat": 4,
 "nbformat_minor": 5
}
